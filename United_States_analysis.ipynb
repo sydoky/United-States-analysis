{
  "nbformat": 4,
  "nbformat_minor": 0,
  "metadata": {
    "colab": {
      "name": "United States analysis.ipynb",
      "provenance": [],
      "authorship_tag": "ABX9TyPs46yjf+4T7ieh3ByoZz1Z",
      "include_colab_link": true
    },
    "kernelspec": {
      "name": "python3",
      "display_name": "Python 3"
    },
    "language_info": {
      "name": "python"
    }
  },
  "cells": [
    {
      "cell_type": "markdown",
      "metadata": {
        "id": "view-in-github",
        "colab_type": "text"
      },
      "source": [
        "<a href=\"https://colab.research.google.com/github/sydoky/United-States-analysis/blob/main/United_States_analysis.ipynb\" target=\"_parent\"><img src=\"https://colab.research.google.com/assets/colab-badge.svg\" alt=\"Open In Colab\"/></a>"
      ]
    },
    {
      "cell_type": "code",
      "execution_count": 22,
      "metadata": {
        "id": "uLayJxwZ3GX8"
      },
      "outputs": [],
      "source": [
        "import pandas as pd\n",
        "import numpy as np\n",
        "import matplotlib.pyplot as plt\n",
        "import matplotlib.image as mpimg"
      ]
    },
    {
      "cell_type": "code",
      "source": [
        "list_states=[]\n",
        "\n",
        "list_states.append([\"Alabama\",\"Montgomery\",4918689,\"Camellia\",\"/content/camellia-flower.jpg\"])\n",
        "list_states.append([\"Alaska\",\"Juneau\",727951,\"Forget Me Not\",\"/content/Alpineforgetmenot.jpg\"])\n",
        "list_states.append([\"Arizona\",\"Phoenix\",7399410,\"Saguaro Cactus Blossom\",\"/content/saguaroflowersFlickr.jpg\"])\n",
        "list_states.append([\"Arkansas\",\"Little Rock\",3025875,\"Apple Blossom\",\"/content/AppletreeblossomArkansasflower.jfif\"])\n",
        "list_states.append([\"California\",\"Sacramento\",39562858,\"California Poppy\",\"/content/CAflowerCaliforniaPoppy.jpg\"])\n",
        "list_states.append([\"Colorado\",\"Denver\",5826185,\"Rocky Mountain Columbine\",\"/content/Colorado_columbine2.jpg\"])\n",
        "list_states.append([\"Connecticut\",\"Hartford\",3559054,\"Mountain Laurel\",\"/content/Mountain-Laural-flowers2.jpg\"])\n",
        "list_states.append([\"Delaware\",\"Dover\",982049,\"Peach Blossom\",\"/content/peachblossomspeachflowers.jpg\"])\n",
        "list_states.append([\"Florida\",\"Tallahassee\",21711157,\"Orange Blossom\",\"/content/OrangeBlossomsFloridaFlower.jpg\"])\n",
        "list_states.append([\"Georgia\",\"Atlanta\",10723715,\"Cherokee Rose\",\"/content/CherokeeRoseFlower.jpg\"])\n",
        "list_states.append([\"Hawaii\",\"Honolulu\",1411151,\"Pua Aloalo\",\"/content/yellowhibiscusPuaAloalo.jpg\"])\n",
        "list_states.append([\"Idaho\",\"Boise\",1823594,\"Syringa\",\"/content/syringaPhiladelphuslewisiiflower.jpg\"])\n",
        "list_states.append([\"Illinoise\",\"Springfield\",12620571,\"Violet\",\"/content/singlebluevioletflower.jpg\"])\n",
        "list_states.append([\"Indiana\",\"Indianapolis\",6768941,\"Peony\",\"/content/PeonyPaeoniaflowers.jpg\"])\n",
        "list_states.append([\"Iowa\",\"Des Moines\",3161522,\"Wild Rose\",\"/content/WildPrairieRose.jpg\"])\n",
        "list_states.append([\"Kansas\",\"Topeka\",2915269,\"Wild Native Sunflower\",\"/content/native-sunflowers.jpg\"])\n",
        "list_states.append([\"Kentucky\",\"Frankfort\",4474193,\"Goldenrod\",\"/content/stateflowergoldenrod-bloom.jpg\"])\n",
        "list_states.append([\"Louisiana\",\"Baton Rouge\",4637898,\"Louisiana Iris\",\"/content/LouisianaIrisWildflower-0.jpg\"])\n",
        "list_states.append([\"Maine\",\"Augusta\",1349367,\"White Pine Cone and Tassel\",\"/content/whitepinemalecones.jpg\"])\n",
        "list_states.append([\"Maryland\",\"Annapolis\",6055558,\"Black-Eyed Susan\",\"/content/FlowerMDBlack-eyedSusan.jpg\"])\n",
        "list_states.append([\"Massachusetts\",\"Boston\",6902371,\"Mayflower\",\"/content/MayflowerTrailingArbutus.jpg\"])\n",
        "list_states.append([\"Michigan\",\"Lansing\",\t9989642,\"Apple Blossom\",\"/content/appleblossombeauty.jpg\"])\n",
        "list_states.append([\"Minnesota\",\"St. Paul\",5673015,\"Pink & White Lady Slipper\",\"/content/pinkwhiteladysslipperflower1.jpg\"])\n",
        "list_states.append([\"Mississippi\",\"Jackson\",2971278,\"Coreopsis\",\"/content/CoreopsisWildflower1-01.jpg\"])\n",
        "list_states.append([\"Missouri\",\"Jefferson City\",\t6153233,\"White Hawthorn Blossom\",\"/content/hawthornflowersblossoms1.jpg\"])\n",
        "list_states.append([\"Montana\",\"Helena\",1076891,\"Bitterroot\",\"/content/bitterrootfloweremblem.jpg\"])\n",
        "list_states.append([\"Nebraska\",\"Lincoln\",1943202,\"Goldenrod\",\"/content/goldenrodflowersyellow4.jpg\"])\n",
        "list_states.append([\"Nevada\",\"Carson City\",\t3132971,\"Sagebrush\",\"/content/Nevada-Sagebrush-Artemisia-tridentata.jpg\"])\n",
        "list_states.append([\"New Hampshire\",\"Concord\",1365957,\"Purple Lilac\",\"/content/lilacflowerspurplelilac.jpg\"])\n",
        "list_states.append([\"New Jersey\",\"Trenton\",8878355,\"Violet\",\"/content/wood-violet.jpg\"])\n",
        "list_states.append([\"New Mexico\",\"Santa Fe\",2100917,\"Yucca\",\"/content/YuccaFlowersclose.jpg\"])\n",
        "list_states.append([\"New York\",\"Albany\",19376771,\"Rose\",\"/content/redrosebeautystateflowerNY.jpg\"])\n",
        "list_states.append([\"North Carolina\",\"Raleigh\",10594553,\"Dogwood\",\"/content/floweringdogwoodflowers2.jpg\"])\n",
        "list_states.append([\"Ohio\",\"Columbus\",11701859,\"White Trillium\",\"/content/WhitetrilliumTrilliumgrandiflorum.jpg\"])\n",
        "list_states.append([\"Oklahoma\",\"Oklahoma City\",3973707,\"Mistletoe\",\"/content/mistletoe_phoradendron_serotinum.jpg\"])\n",
        "list_states.append([\"Oregon\",\"Salem\",4253588,\"Oregon Grape\",\"/content/Oregongrapeflowers2.jpg\"])\n",
        "list_states.append([\"Pennsylvania\",\"Harrisburg\",12803056,\"Mountain Laurel\",\"/content/Mt_Laurel_Kalmia_Latifolia.jpg\"])\n",
        "list_states.append([\"Rhode Island\",\"Providence\",1060435,\"Violet\",\"/content/violetsflowers.jpg\"])\n",
        "list_states.append([\"South Carolina\",\"Columbia\",5213272,\"Yellow Jessamine\",\"/content/CarolinaYellowJessamine101.jpg\"])\n",
        "list_states.append([\"South Dakota\",\"Pierre\",890620,\"American Pasque\",\"/content/Pasqueflower-03.jpg\"])\n",
        "list_states.append([\"Tennessee\",\"Nashville\",6886717,\"Passion Flower\",\"/content/passionflowerwildflower2.jpg\"])\n",
        "list_states.append([\"Texas\",\"Austin\",29363096,\"Nymphaea Texas Dawn\",\"/content/Texas-dawn-waterlily-Nymphaea.jpg\"])\n",
        "list_states.append([\"Utah\",\"Salt Lake City\",3258366,\"Sego Lily\",\"/content/SegoLily.jpg\"])\n",
        "list_states.append([\"Vermont\",\"Montpelier\",623620,\"Red Clover\",\"/content/redcloverstateflowerWV.jpg\"])\n",
        "list_states.append([\"Virginia\",\"Richmond\",8569752,\"American Dogwood\",\"/content/floweringDogwoodSpring.jpg\"])\n",
        "list_states.append([\"Washington\",\"Olympia\",7705917,\"Coast Rhododendron\",\"/content/flower_rhododendronWeb.jpg\"])\n",
        "list_states.append([\"West Virginia\",\"Charleston\",1780003,\"Rhododendron\",\"/content/rhododendronWVstateflower.jpg\"])\n",
        "list_states.append([\"Wisconsin\",\"Madison\",5837462,\"Wood Violet\",\"/content/wood-violet (1).jpg\"])\n",
        "list_states.append([\"Wyoming\",\"Cheyenne\",579917,\"Indian Paintbrush\",\"/content/indianpaintbrushWYflower.jpg\"])\n",
        "list_states.sort()"
      ],
      "metadata": {
        "id": "mV6NRxi25Lkp"
      },
      "execution_count": 23,
      "outputs": []
    },
    {
      "cell_type": "code",
      "source": [
        "#Making interface\n",
        "\n",
        "print(\"Welcome to the map of flowers in each state!\")\n",
        "\n",
        "\n",
        "\n",
        "while True:\n",
        "  print(\"1. Display all U.S. States in Alphabetical order along with the Capital, State Population, and Flower\\n2. Search for a specific state and display the appropriate Capital name, State Population, and an image of the associated State Flower.\\n3. Provide a Bar graph of the top 5 populated States showing their overall population.\\n4. Update the overall state population for a specific state.\\n5. Exit the program\")\n",
        "  \n",
        "  game_start = int(input(\"Which option would you like to see? Please enter your number: \"))\n",
        "\n",
        "  if game_start == 1:\n",
        "    for i in range(0,len(list_states)):\n",
        "      print(\"State:{}\\nCapital:{}\\nPopulation:{}\\nFlower:{}\".format(list_states[i][0],list_states[i][1],list_states[i][2],list_states[i][3]))\n",
        "      img=mpimg.imread(list_states[i][4])\n",
        "      imgplot=plt.imshow(img)\n",
        "      plt.title(list_states[i][0])\n",
        "      plt.show()\n",
        "\n",
        "  elif game_start == 2:\n",
        "    # while True:\n",
        "      search_state = input(\"Enter a state name: \").upper()\n",
        "      for i in range(len(list_states)):\n",
        "        if search_state == (list_states[i][0]).upper():\n",
        "          print(\"State:{}\\nCapital:{}\\nPopulation:{}\\nFlower:{}\".format(list_states[i][0],list_states[i][1],list_states[i][2],list_states[i][3]))\n",
        "          img=mpimg.imread(list_states[i][4])\n",
        "          imgplot=plt.imshow(img)\n",
        "          plt.title(list_states[i][0])\n",
        "          plt.show() #the last 4 lines is just for the picture purpose \n",
        "\n",
        "  elif game_start == 3:\n",
        "    state_population_list = []\n",
        "    for i in list_states: \n",
        "      state_population_list.append(i[2]) #2 is the index number of population\n",
        "    state_population_list.sort(reverse=True)\n",
        "    state_population_list = state_population_list[:5]\n",
        "    pop_state=[]\n",
        "    for i in state_population_list:\n",
        "      for k in list_states:\n",
        "        if i in k: #i is a population and k is individual item in the list which is a state name \n",
        "          pop_state.append(k[0]) #\n",
        "    pop_df=pd.DataFrame({\"State\":pop_state,\"Population\":state_population_list})\n",
        "    print(pop_df) \n",
        "    pop_df.plot(x=\"State\",y=\"Population\",kind=\"bar\")\n",
        "    plt.show()\n",
        "  \n",
        "  elif game_start == 4:\n",
        "    update_population = input(\"Enter the state you want to update its population: \")\n",
        "    change_population = int(input(\"Enter your updated population number of people: \"))\n",
        "    for i in range(0, len(list_states)):\n",
        "      if update_population == list_states[i][0]:\n",
        "        print(\"The state's population has been updated\")\n",
        "        print(\"State:{}\\nCapital:{}\\nPopulation:{}\\nFlower:{}\".format(list_states[i][0],list_states[i][1],list_states[i][2],list_states[i][3]))\n",
        "        list_states[i][2] = change_population\n",
        "\n",
        "  elif game_start == 5:\n",
        "    print(\"Thank you for being with us. Good bye!\")\n",
        "    break\n",
        "\n",
        "\n",
        "   \n",
        "      \n",
        "    \n"
      ],
      "metadata": {
        "colab": {
          "base_uri": "https://localhost:8080/"
        },
        "id": "IR7Hwqq056QP",
        "outputId": "7f60b4aa-cc5e-43ce-f63e-e2fed51b9f24"
      },
      "execution_count": null,
      "outputs": [
        {
          "output_type": "stream",
          "name": "stdout",
          "text": [
            "Welcome to the map of flowers in each state!\n",
            "1. Display all U.S. States in Alphabetical order along with the Capital, State Population, and Flower\n",
            "2. Search for a specific state and display the appropriate Capital name, State Population, and an image of the associated State Flower.\n",
            "3. Provide a Bar graph of the top 5 populated States showing their overall population.\n",
            "4. Update the overall state population for a specific state.\n",
            "5. Exit the program\n"
          ]
        }
      ]
    }
  ]
}